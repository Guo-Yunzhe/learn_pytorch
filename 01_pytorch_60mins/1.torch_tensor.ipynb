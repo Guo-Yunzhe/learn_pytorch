{
 "cells": [
  {
   "cell_type": "markdown",
   "metadata": {},
   "source": [
    "## Tensor 基本操作"
   ]
  },
  {
   "cell_type": "code",
   "execution_count": 25,
   "metadata": {},
   "outputs": [],
   "source": [
    "import torch \n",
    "# 使用 \n",
    "# torch==1.0.1.post2\n",
    "# torchvision==0.2.2"
   ]
  },
  {
   "cell_type": "code",
   "execution_count": 18,
   "metadata": {},
   "outputs": [
    {
     "name": "stdout",
     "output_type": "stream",
     "text": [
      "tensor([[ 0.0000e+00, -8.5899e+09, -2.1478e-14],\n",
      "        [ 3.6902e+19,  7.0065e-45,  0.0000e+00],\n",
      "        [ 0.0000e+00,  0.0000e+00,  0.0000e+00],\n",
      "        [ 0.0000e+00,  0.0000e+00,  0.0000e+00],\n",
      "        [ 0.0000e+00, -8.5899e+09, -1.7457e-14]])\n"
     ]
    }
   ],
   "source": [
    "'''创建一个没有初始化的 5*3 矩阵'''\n",
    "x = torch.empty(5, 3)\n",
    "print(x)"
   ]
  },
  {
   "cell_type": "code",
   "execution_count": 19,
   "metadata": {},
   "outputs": [
    {
     "name": "stdout",
     "output_type": "stream",
     "text": [
      "tensor([[0.3968, 0.0722, 0.4312],\n",
      "        [0.8256, 0.7115, 0.7762],\n",
      "        [0.9180, 0.4276, 0.8534],\n",
      "        [0.3366, 0.1112, 0.4256],\n",
      "        [0.6909, 0.2622, 0.8680]])\n"
     ]
    }
   ],
   "source": [
    "'''创建一个随机初始化矩阵：'''\n",
    "x = torch.rand(5, 3)\n",
    "print(x)"
   ]
  },
  {
   "cell_type": "code",
   "execution_count": 20,
   "metadata": {},
   "outputs": [
    {
     "name": "stdout",
     "output_type": "stream",
     "text": [
      "tensor([[0, 0, 0],\n",
      "        [0, 0, 0],\n",
      "        [0, 0, 0],\n",
      "        [0, 0, 0],\n",
      "        [0, 0, 0]])\n"
     ]
    }
   ],
   "source": [
    "# all zero ， 數據類型為 long \n",
    "x = torch.zeros(5,3 , dtype = torch.long)\n",
    "print(x)"
   ]
  },
  {
   "cell_type": "code",
   "execution_count": 21,
   "metadata": {},
   "outputs": [
    {
     "name": "stdout",
     "output_type": "stream",
     "text": [
      "tensor([4.5000, 3.0000])\n"
     ]
    }
   ],
   "source": [
    "# 从数据中构造张量\n",
    "x = torch.tensor([4.5, 3])\n",
    "print(x)"
   ]
  },
  {
   "cell_type": "code",
   "execution_count": 22,
   "metadata": {},
   "outputs": [
    {
     "name": "stdout",
     "output_type": "stream",
     "text": [
      "tensor([[1., 1., 1.],\n",
      "        [1., 1., 1.],\n",
      "        [1., 1., 1.],\n",
      "        [1., 1., 1.],\n",
      "        [1., 1., 1.]], dtype=torch.float64)\n"
     ]
    }
   ],
   "source": [
    "x = x.new_ones(5, 3, dtype=torch.double)\n",
    "print(x)"
   ]
  },
  {
   "cell_type": "code",
   "execution_count": 23,
   "metadata": {},
   "outputs": [
    {
     "name": "stdout",
     "output_type": "stream",
     "text": [
      "tensor([[-2.1420,  1.1306, -1.4203],\n",
      "        [-0.5420,  1.0480, -0.4291],\n",
      "        [-1.0728, -1.9343, -1.0481],\n",
      "        [ 1.0844,  0.3024, -0.3705],\n",
      "        [-0.9505, -0.1478,  1.0306]])\n"
     ]
    }
   ],
   "source": [
    "# 重载 dtype!， size 是相同的，元素是随机生成的\n",
    "x = torch.randn_like(x, dtype=torch.float)\n",
    "print(x)"
   ]
  },
  {
   "cell_type": "code",
   "execution_count": 24,
   "metadata": {},
   "outputs": [
    {
     "name": "stdout",
     "output_type": "stream",
     "text": [
      "torch.Size([5, 3])\n"
     ]
    }
   ],
   "source": [
    "print(x.shape)"
   ]
  },
  {
   "cell_type": "markdown",
   "metadata": {},
   "source": [
    "## Tensor 的運算"
   ]
  },
  {
   "cell_type": "code",
   "execution_count": 29,
   "metadata": {},
   "outputs": [
    {
     "name": "stdout",
     "output_type": "stream",
     "text": [
      "tensor([[-2.0890,  1.5065, -0.6425],\n",
      "        [-0.4924,  1.5432, -0.1618],\n",
      "        [-0.4143, -1.5741, -0.9242],\n",
      "        [ 1.2986,  0.8774,  0.0775],\n",
      "        [-0.3836,  0.6756,  1.2177]])\n"
     ]
    }
   ],
   "source": [
    "y = torch.rand(5,3)\n",
    "print(x + y )"
   ]
  },
  {
   "cell_type": "code",
   "execution_count": 30,
   "metadata": {},
   "outputs": [
    {
     "name": "stdout",
     "output_type": "stream",
     "text": [
      "Before add:\n",
      "tensor([[ 0.0000e+00, -8.5899e+09, -2.1560e-14],\n",
      "        [-1.5849e+29,  5.6899e-16,  1.4013e-45],\n",
      "        [ 5.7240e-16,  1.4013e-45,  5.6161e-16],\n",
      "        [ 1.4013e-45,  6.8502e-32,  1.4013e-45],\n",
      "        [ 8.8026e-32,  1.4013e-45,  5.7234e-16]])\n",
      "\n",
      "\n",
      "After add:\n",
      "tensor([[-2.0890,  1.5065, -0.6425],\n",
      "        [-0.4924,  1.5432, -0.1618],\n",
      "        [-0.4143, -1.5741, -0.9242],\n",
      "        [ 1.2986,  0.8774,  0.0775],\n",
      "        [-0.3836,  0.6756,  1.2177]])\n"
     ]
    }
   ],
   "source": [
    "result = torch.empty(5,3)\n",
    "print('Before add:')\n",
    "print(result)\n",
    "torch.add(x, y , out= result)\n",
    "print('\\n\\nAfter add:')\n",
    "print(result)"
   ]
  },
  {
   "cell_type": "markdown",
   "metadata": {},
   "source": [
    "原地操作"
   ]
  },
  {
   "cell_type": "code",
   "execution_count": 31,
   "metadata": {},
   "outputs": [
    {
     "name": "stdout",
     "output_type": "stream",
     "text": [
      "tensor([[-2.0890,  1.5065, -0.6425],\n",
      "        [-0.4924,  1.5432, -0.1618],\n",
      "        [-0.4143, -1.5741, -0.9242],\n",
      "        [ 1.2986,  0.8774,  0.0775],\n",
      "        [-0.3836,  0.6756,  1.2177]])\n"
     ]
    }
   ],
   "source": [
    "y.add_(x)\n",
    "print(y)"
   ]
  },
  {
   "cell_type": "markdown",
   "metadata": {},
   "source": [
    "改变形状"
   ]
  },
  {
   "cell_type": "code",
   "execution_count": 32,
   "metadata": {},
   "outputs": [
    {
     "name": "stdout",
     "output_type": "stream",
     "text": [
      "torch.Size([4, 4]) torch.Size([16]) torch.Size([2, 8])\n"
     ]
    }
   ],
   "source": [
    "x = torch.randn(4, 4)\n",
    "y = x.view(16)\n",
    "z = x.view(-1, 8)  # the size -1 is inferred from other dimensions\n",
    "print(x.size(), y.size(), z.size())"
   ]
  },
  {
   "cell_type": "code",
   "execution_count": 33,
   "metadata": {},
   "outputs": [
    {
     "name": "stdout",
     "output_type": "stream",
     "text": [
      "tensor([0.9139])\n",
      "0.9139273166656494\n"
     ]
    }
   ],
   "source": [
    "# 只有一个元素\n",
    "x = torch.randn(1)\n",
    "print(x)\n",
    "print(x.item())"
   ]
  },
  {
   "cell_type": "code",
   "execution_count": null,
   "metadata": {},
   "outputs": [],
   "source": []
  }
 ],
 "metadata": {
  "kernelspec": {
   "display_name": "Python 3",
   "language": "python",
   "name": "python3"
  },
  "language_info": {
   "codemirror_mode": {
    "name": "ipython",
    "version": 3
   },
   "file_extension": ".py",
   "mimetype": "text/x-python",
   "name": "python",
   "nbconvert_exporter": "python",
   "pygments_lexer": "ipython3",
   "version": "3.6.8"
  }
 },
 "nbformat": 4,
 "nbformat_minor": 2
}
