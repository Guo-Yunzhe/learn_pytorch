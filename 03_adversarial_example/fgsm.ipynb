{
 "cells": [
  {
   "cell_type": "markdown",
   "metadata": {},
   "source": [
    "## 一些准备工作"
   ]
  },
  {
   "cell_type": "code",
   "execution_count": 6,
   "metadata": {},
   "outputs": [],
   "source": [
    "# torch packets\n",
    "import torch\n",
    "import torch.nn as nn\n",
    "import torch.nn.functional as F\n",
    "import torch.optim as optim\n",
    "from torch.autograd import Variable\n",
    "import numpy as np \n",
    "from sklearn import  metrics\n",
    "\n",
    "# torch vision \n",
    "from torchvision import datasets, transforms\n",
    "\n",
    "mnist_path = 'DATA'\n",
    "trans = transforms.Compose([transforms.ToTensor(), transforms.Normalize((0.5,), (1.0,))])\n",
    "\n",
    "\n",
    "train_set = datasets.MNIST(root=mnist_path, train=True, transform=trans, download=True)\n",
    "test_set = datasets.MNIST(root=mnist_path, train=False, transform=trans)\n",
    "batch_size = 128\n",
    "train_loader = torch.utils.data.DataLoader(\n",
    "                 dataset=train_set,\n",
    "                 batch_size=batch_size,\n",
    "                 shuffle=True)\n",
    "test_loader = torch.utils.data.DataLoader(\n",
    "                dataset=test_set,\n",
    "                batch_size=batch_size,\n",
    "                shuffle=False)\n",
    "\n",
    "# 模型结构\n",
    "class mnist_net(nn.Module):\n",
    "    def __init__(self):\n",
    "        super(mnist_net, self).__init__() # 为啥？\n",
    "        self.fc1 = nn.Linear(28* 28 ,  500)\n",
    "        self.fc2 = nn.Linear(500, 32)\n",
    "        self.fc3 = nn.Linear(32, 10)\n",
    "        pass\n",
    "    \n",
    "    \n",
    "    def forward(self, x):\n",
    "        x = x.view(-1, 28*28)\n",
    "        x = F.relu( self.fc1(x)  )\n",
    "        x = F.relu( self.fc2(x)  )\n",
    "        out = self.fc3(x)\n",
    "        return out \n",
    "        pass \n",
    "    pass\n",
    "\n",
    "the_model = mnist_net()\n",
    "the_model.load_state_dict(torch.load('mnist_net'))"
   ]
  },
  {
   "cell_type": "code",
   "execution_count": 8,
   "metadata": {},
   "outputs": [
    {
     "name": "stdout",
     "output_type": "stream",
     "text": [
      "\n",
      "Accuracy Score of the Loaded Model: 0.9634\n"
     ]
    }
   ],
   "source": [
    "y_true = test_set.targets\n",
    "y_pred2 = torch.empty(0, dtype= torch.long)\n",
    "for batch_idx, (x, target) in enumerate(test_loader):\n",
    "    y_pred_tmp = the_model.forward(x) \n",
    "    label_pred = torch.argmax( y_pred_tmp, dim= 1 )\n",
    "    #print(label_pred)\n",
    "    #print(target)\n",
    "    y_pred2 = torch.cat( (y_pred2, label_pred)  ) # 连接两个向量\n",
    "    pass\n",
    "\n",
    "print('\\nAccuracy Score of the Loaded Model: %g' %( metrics.accuracy_score(y_true, y_pred2)))"
   ]
  },
  {
   "cell_type": "markdown",
   "metadata": {},
   "source": [
    "## Fast Gradient Sign Method"
   ]
  },
  {
   "cell_type": "code",
   "execution_count": 29,
   "metadata": {},
   "outputs": [],
   "source": [
    "def fgsm_attack(image, epsilon, data_grad):\n",
    "    # Collect the element-wise sign of the data gradient\n",
    "    sign_data_grad = data_grad.sign()\n",
    "    # Create the perturbed image by adjusting each pixel of the input image\n",
    "    perturbed_image = image + epsilon*sign_data_grad\n",
    "    # Adding clipping to maintain [0,1] range\n",
    "    perturbed_image = torch.clamp(perturbed_image, -0.5, 0.5) \n",
    "    # Return the perturbed image\n",
    "    return perturbed_image"
   ]
  },
  {
   "cell_type": "code",
   "execution_count": 80,
   "metadata": {},
   "outputs": [
    {
     "name": "stdout",
     "output_type": "stream",
     "text": [
      "tensor([7, 2, 1, 0, 4, 1, 4, 9, 5, 9, 2, 6, 9, 0, 5, 5, 9, 7, 3, 4, 9, 6, 6, 3,\n",
      "        4, 0, 7, 6, 0, 1, 3, 1, 3, 4, 7, 2, 7, 1, 2, 1, 1, 7, 4, 2, 3, 5, 1, 2,\n",
      "        4, 4, 6, 3, 5, 5, 6, 0, 6, 1, 9, 5, 4, 8, 9, 3, 7, 4, 6, 4, 3, 0, 2, 0,\n",
      "        2, 9, 1, 7, 3, 2, 9, 8, 7, 6, 2, 7, 8, 4, 7, 3, 6, 1, 3, 6, 9, 3, 1, 6,\n",
      "        1, 7, 6, 4, 6, 0, 4, 4, 9, 9, 2, 1, 9, 4, 8, 7, 3, 9, 7, 4, 4, 2, 9, 2,\n",
      "        8, 4, 7, 6, 7, 9, 0, 5])\n",
      "tensor([7, 2, 1, 0, 4, 1, 4, 9, 5, 9, 0, 6, 9, 0, 1, 5, 9, 7, 3, 4, 9, 6, 6, 5,\n",
      "        4, 0, 7, 4, 0, 1, 3, 1, 3, 0, 7, 2, 7, 1, 2, 1, 1, 7, 4, 2, 3, 5, 1, 2,\n",
      "        4, 4, 6, 3, 5, 5, 6, 0, 4, 1, 9, 5, 7, 8, 9, 3, 7, 9, 6, 4, 3, 0, 7, 0,\n",
      "        2, 9, 1, 7, 3, 2, 9, 7, 7, 6, 2, 7, 8, 4, 7, 1, 6, 1, 3, 6, 9, 3, 1, 4,\n",
      "        1, 7, 6, 9, 6, 0, 5, 4, 9, 9, 2, 1, 9, 4, 8, 7, 3, 9, 7, 4, 4, 4, 9, 2,\n",
      "        5, 4, 7, 6, 4, 9, 0, 5])\n",
      "\n",
      "Epsilon:\n",
      "0.3\n",
      "------------------------\n",
      "Accuracy Score:\n",
      "0.8671875\n"
     ]
    }
   ],
   "source": [
    "epsilon = 0.3\n",
    "\n",
    "accuracy_list = []\n",
    "\n",
    "for batch_idx, (data, target) in enumerate(test_loader):\n",
    "    \n",
    "    data.requires_grad = True\n",
    "    \n",
    "    #     print(target.size() ) # 128\n",
    "    len_target = len(target)\n",
    "    # target = torch.ones(len_target, dtype= torch.long)\n",
    "    \n",
    "    # 问题！！ 如何做 targeted attack ???? \n",
    "    \n",
    "    # print(data.size() )  # torch.Size([128, 1, 28, 28]) \n",
    "    # 代表了 有 128 个样本\n",
    "    \n",
    "    output = the_model.forward(data)\n",
    "    # loss = F.nll_loss(output, target)\n",
    "    \n",
    "    criterion = nn.CrossEntropyLoss()\n",
    "    loss =   - criterion(output, target)\n",
    "    # print(loss)\n",
    "    \n",
    "    init_pred = output.max(1, keepdim=True)[1]  # 干什么的？？？\n",
    "    # print(init_pred[0])\n",
    "    # print(output[0])\n",
    "    \n",
    "    the_model.zero_grad()\n",
    "    loss.backward()\n",
    "    data_grad = data.grad.data\n",
    "    \n",
    "    perturbed_data = fgsm_attack(data, epsilon, data_grad)\n",
    "    \n",
    "    y_adv = the_model.forward(perturbed_data)\n",
    "    y_pred = the_model.forward(data)\n",
    "    \n",
    "    y_adv = torch.argmax(y_adv, dim= 1)\n",
    "    y_pred = torch.argmax(y_pred, dim = 1)\n",
    "    \n",
    "    \n",
    "    print(y_adv)\n",
    "    print(y_pred)\n",
    "    # print(target)\n",
    "    # print(metrics.accuracy_score(y_pred, y_adv ))\n",
    "    acc = metrics.accuracy_score(y_pred , y_adv )\n",
    "    accuracy_list.append(acc)\n",
    "    # print(acc) \n",
    "    # print(data_grad.size() ) # torch.Size([128, 1, 28, 28 ])  \n",
    "\n",
    "    \n",
    "    # print( data.max()  )\n",
    "    # print( data.min() )\n",
    "    # tensor(0.5000, grad_fn=<MaxBackward1>)\n",
    "    # tensor(-0.5000, grad_fn=<MinBackward1>)\n",
    "    \n",
    "    \n",
    "    break # only run once \n",
    "    pass\n",
    "\n",
    "print('\\nEpsilon:')\n",
    "print(epsilon)\n",
    "\n",
    "print('--'*12)\n",
    "\n",
    "print('Accuracy Score:')\n",
    "print(np.mean(accuracy_list))"
   ]
  },
  {
   "cell_type": "markdown",
   "metadata": {},
   "source": [
    "MNIST 分类的时候，还是不要归一化成 【-0.5, 0.5 】这样\n",
    "\n",
    "不习惯啊"
   ]
  },
  {
   "cell_type": "code",
   "execution_count": null,
   "metadata": {},
   "outputs": [],
   "source": []
  }
 ],
 "metadata": {
  "kernelspec": {
   "display_name": "Python 3",
   "language": "python",
   "name": "python3"
  },
  "language_info": {
   "codemirror_mode": {
    "name": "ipython",
    "version": 3
   },
   "file_extension": ".py",
   "mimetype": "text/x-python",
   "name": "python",
   "nbconvert_exporter": "python",
   "pygments_lexer": "ipython3",
   "version": "3.6.8"
  }
 },
 "nbformat": 4,
 "nbformat_minor": 2
}
