{
 "cells": [
  {
   "cell_type": "markdown",
   "metadata": {},
   "source": [
    "## 一些准备工作"
   ]
  },
  {
   "cell_type": "code",
   "execution_count": 6,
   "metadata": {},
   "outputs": [],
   "source": [
    "# torch packets\n",
    "import torch\n",
    "import torch.nn as nn\n",
    "import torch.nn.functional as F\n",
    "import torch.optim as optim\n",
    "from torch.autograd import Variable\n",
    "import numpy as np \n",
    "from sklearn import  metrics\n",
    "\n",
    "# torch vision \n",
    "from torchvision import datasets, transforms\n",
    "\n",
    "mnist_path = 'DATA'\n",
    "trans = transforms.Compose([transforms.ToTensor(), transforms.Normalize((0.5,), (1.0,))])\n",
    "\n",
    "\n",
    "train_set = datasets.MNIST(root=mnist_path, train=True, transform=trans, download=True)\n",
    "test_set = datasets.MNIST(root=mnist_path, train=False, transform=trans)\n",
    "batch_size = 128\n",
    "train_loader = torch.utils.data.DataLoader(\n",
    "                 dataset=train_set,\n",
    "                 batch_size=batch_size,\n",
    "                 shuffle=True)\n",
    "test_loader = torch.utils.data.DataLoader(\n",
    "                dataset=test_set,\n",
    "                batch_size=batch_size,\n",
    "                shuffle=False)\n",
    "\n",
    "# 模型结构\n",
    "class mnist_net(nn.Module):\n",
    "    def __init__(self):\n",
    "        super(mnist_net, self).__init__() # 为啥？\n",
    "        self.fc1 = nn.Linear(28* 28 ,  500)\n",
    "        self.fc2 = nn.Linear(500, 32)\n",
    "        self.fc3 = nn.Linear(32, 10)\n",
    "        pass\n",
    "    \n",
    "    \n",
    "    def forward(self, x):\n",
    "        x = x.view(-1, 28*28)\n",
    "        x = F.relu( self.fc1(x)  )\n",
    "        x = F.relu( self.fc2(x)  )\n",
    "        out = self.fc3(x)\n",
    "        return out \n",
    "        pass \n",
    "    pass\n",
    "\n",
    "the_model = mnist_net()\n",
    "the_model.load_state_dict(torch.load('mnist_net'))"
   ]
  },
  {
   "cell_type": "code",
   "execution_count": 8,
   "metadata": {},
   "outputs": [
    {
     "name": "stdout",
     "output_type": "stream",
     "text": [
      "\n",
      "Accuracy Score of the Loaded Model: 0.9634\n"
     ]
    }
   ],
   "source": [
    "y_true = test_set.targets\n",
    "y_pred2 = torch.empty(0, dtype= torch.long)\n",
    "for batch_idx, (x, target) in enumerate(test_loader):\n",
    "    y_pred_tmp = the_model.forward(x) \n",
    "    label_pred = torch.argmax( y_pred_tmp, dim= 1 )\n",
    "    #print(label_pred)\n",
    "    #print(target)\n",
    "    y_pred2 = torch.cat( (y_pred2, label_pred)  ) # 连接两个向量\n",
    "    \n",
    "    pass\n",
    "\n",
    "print('\\nAccuracy Score of the Loaded Model: %g' %( metrics.accuracy_score(y_true, y_pred2)))"
   ]
  },
  {
   "cell_type": "code",
   "execution_count": null,
   "metadata": {},
   "outputs": [],
   "source": []
  },
  {
   "cell_type": "code",
   "execution_count": null,
   "metadata": {},
   "outputs": [],
   "source": []
  },
  {
   "cell_type": "code",
   "execution_count": null,
   "metadata": {},
   "outputs": [],
   "source": []
  },
  {
   "cell_type": "code",
   "execution_count": null,
   "metadata": {},
   "outputs": [],
   "source": []
  }
 ],
 "metadata": {
  "kernelspec": {
   "display_name": "Python 3",
   "language": "python",
   "name": "python3"
  },
  "language_info": {
   "codemirror_mode": {
    "name": "ipython",
    "version": 3
   },
   "file_extension": ".py",
   "mimetype": "text/x-python",
   "name": "python",
   "nbconvert_exporter": "python",
   "pygments_lexer": "ipython3",
   "version": "3.6.8"
  }
 },
 "nbformat": 4,
 "nbformat_minor": 2
}
