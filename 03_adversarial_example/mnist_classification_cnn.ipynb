{
 "cells": [
  {
   "cell_type": "code",
   "execution_count": 6,
   "metadata": {},
   "outputs": [],
   "source": [
    "# torch packets\n",
    "import torch\n",
    "import torch.nn as nn\n",
    "import torch.nn.functional as F\n",
    "import torch.optim as optim\n",
    "\n",
    "# torch vision \n",
    "from torchvision import datasets, transforms"
   ]
  },
  {
   "cell_type": "markdown",
   "metadata": {},
   "source": [
    "## prepare  MNIST dataset "
   ]
  },
  {
   "cell_type": "code",
   "execution_count": 7,
   "metadata": {},
   "outputs": [],
   "source": [
    "mnist_path = 'DATA'\n",
    "trans = transforms.Compose([transforms.ToTensor(), transforms.Normalize((0.5,), (1.0,))])\n",
    "\n",
    "\n",
    "train_set = datasets.MNIST(root=mnist_path, train=True, transform=trans, download=True)\n",
    "test_set = datasets.MNIST(root=mnist_path, train=False, transform=trans)\n",
    "train_set_flat = train_set.data.view(60000, 28 * 28 )"
   ]
  },
  {
   "cell_type": "markdown",
   "metadata": {},
   "source": [
    "## 定义网络"
   ]
  },
  {
   "cell_type": "code",
   "execution_count": 25,
   "metadata": {},
   "outputs": [],
   "source": [
    "class mnist_net(nn.Module):\n",
    "    def __init__(self):\n",
    "        super(mnist_net, self).__init__() # 为啥？\n",
    "        self.fc1 = nn.Linear(28* 28 ,  500)\n",
    "        self.fc2 = nn.Linear(500, 32)\n",
    "        self.fc3 = nn.Linear(32, 10)\n",
    "        pass\n",
    "    \n",
    "    \n",
    "    def forward(self, x):\n",
    "        x = F.relu( self.fc1(x)  )\n",
    "        x = F.relu( self.fc2(x)  )\n",
    "        out = self.fc3(x)\n",
    "        return out \n",
    "        pass \n",
    "    pass\n",
    "\n",
    "\n",
    "model = mnist_net()"
   ]
  },
  {
   "cell_type": "markdown",
   "metadata": {},
   "source": [
    "## 定义 优化器"
   ]
  },
  {
   "cell_type": "code",
   "execution_count": 31,
   "metadata": {},
   "outputs": [],
   "source": [
    "opt = optim.Adam(model.parameters() ) # 其他可以使用默认参数\n",
    "\n",
    "ceriation = nn.CrossEntropyLoss()\n",
    "\n",
    "batch_size = 128\n",
    "train_loader = torch.utils.data.DataLoader(\n",
    "                 dataset=train_set,\n",
    "                 batch_size=batch_size,\n",
    "                 shuffle=True)\n",
    "test_loader = torch.utils.data.DataLoader(\n",
    "                dataset=test_set,\n",
    "                batch_size=batch_size,\n",
    "                shuffle=False)\n"
   ]
  },
  {
   "cell_type": "markdown",
   "metadata": {},
   "source": [
    "## 训练"
   ]
  },
  {
   "cell_type": "code",
   "execution_count": null,
   "metadata": {},
   "outputs": [],
   "source": [
    "for epoch in xrange(10):\n",
    "    ave_loss = 0 # 干什么的？ \n",
    "    for batch_index, (x, target) in enumerate(train_loader):\n",
    "        output = model.forward(x) \n",
    "        loss = ceriation(output , target)\n",
    "        pass\n",
    "    \n",
    "    pass"
   ]
  }
 ],
 "metadata": {
  "kernelspec": {
   "display_name": "Python 3",
   "language": "python",
   "name": "python3"
  },
  "language_info": {
   "codemirror_mode": {
    "name": "ipython",
    "version": 3
   },
   "file_extension": ".py",
   "mimetype": "text/x-python",
   "name": "python",
   "nbconvert_exporter": "python",
   "pygments_lexer": "ipython3",
   "version": "3.6.8"
  }
 },
 "nbformat": 4,
 "nbformat_minor": 2
}
