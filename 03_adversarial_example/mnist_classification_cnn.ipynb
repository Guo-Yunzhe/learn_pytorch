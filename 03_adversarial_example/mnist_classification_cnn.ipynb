{
 "cells": [
  {
   "cell_type": "code",
   "execution_count": 46,
   "metadata": {},
   "outputs": [],
   "source": [
    "# torch packets\n",
    "import torch\n",
    "import torch.nn as nn\n",
    "import torch.nn.functional as F\n",
    "import torch.optim as optim\n",
    "from torch.autograd import Variable\n",
    "\n",
    "# torch vision \n",
    "from torchvision import datasets, transforms"
   ]
  },
  {
   "cell_type": "markdown",
   "metadata": {},
   "source": [
    "## prepare  MNIST dataset "
   ]
  },
  {
   "cell_type": "code",
   "execution_count": 47,
   "metadata": {},
   "outputs": [],
   "source": [
    "mnist_path = 'DATA'\n",
    "trans = transforms.Compose([transforms.ToTensor(), transforms.Normalize((0.5,), (1.0,))])\n",
    "\n",
    "\n",
    "train_set = datasets.MNIST(root=mnist_path, train=True, transform=trans, download=True)\n",
    "test_set = datasets.MNIST(root=mnist_path, train=False, transform=trans)\n",
    "train_set_flat = train_set.data.view(60000, 28 * 28 )"
   ]
  },
  {
   "cell_type": "markdown",
   "metadata": {},
   "source": [
    "## 定义网络"
   ]
  },
  {
   "cell_type": "code",
   "execution_count": 48,
   "metadata": {},
   "outputs": [],
   "source": [
    "class mnist_net(nn.Module):\n",
    "    def __init__(self):\n",
    "        super(mnist_net, self).__init__() # 为啥？\n",
    "        self.fc1 = nn.Linear(28* 28 ,  500)\n",
    "        self.fc2 = nn.Linear(500, 32)\n",
    "        self.fc3 = nn.Linear(32, 10)\n",
    "        pass\n",
    "    \n",
    "    \n",
    "    def forward(self, x):\n",
    "        x = x.view(-1, 28*28)\n",
    "        x = F.relu( self.fc1(x)  )\n",
    "        x = F.relu( self.fc2(x)  )\n",
    "        out = self.fc3(x)\n",
    "        return out \n",
    "        pass \n",
    "    pass\n",
    "\n",
    "\n",
    "model = mnist_net()"
   ]
  },
  {
   "cell_type": "markdown",
   "metadata": {},
   "source": [
    "## 定义 优化器"
   ]
  },
  {
   "cell_type": "code",
   "execution_count": 51,
   "metadata": {},
   "outputs": [],
   "source": [
    "opt = optim.Adam(model.parameters(), lr= 0.01) # 其他可以使用默认参数\n",
    "\n",
    "ceriation = nn.CrossEntropyLoss()\n",
    "\n",
    "batch_size = 128\n",
    "train_loader = torch.utils.data.DataLoader(\n",
    "                 dataset=train_set,\n",
    "                 batch_size=batch_size,\n",
    "                 shuffle=True)\n",
    "test_loader = torch.utils.data.DataLoader(\n",
    "                dataset=test_set,\n",
    "                batch_size=batch_size,\n",
    "                shuffle=False)\n"
   ]
  },
  {
   "cell_type": "markdown",
   "metadata": {},
   "source": [
    "## 训练"
   ]
  },
  {
   "cell_type": "code",
   "execution_count": 54,
   "metadata": {},
   "outputs": [
    {
     "name": "stdout",
     "output_type": "stream",
     "text": [
      "epoch:  0: loss: 0.124059\n",
      "epoch:  1: loss: 0.11863\n",
      "epoch:  2: loss: 0.13584\n",
      "epoch:  3: loss: 0.114831\n"
     ]
    }
   ],
   "source": [
    "TOTAL_EPOCH = 4\n",
    "\n",
    "for epoch in range(TOTAL_EPOCH):\n",
    "    ave_loss = 0 # 干什么的？ \n",
    "    for batch_index, (x, target) in enumerate(train_loader):\n",
    "        # 梯度清零\n",
    "        opt.zero_grad()\n",
    "        # 计算 输出 \n",
    "        x, target = Variable(x), Variable(target)\n",
    "        output = model.forward(x) \n",
    "        # print(output)\n",
    "        # print(output.size())\n",
    "        loss = ceriation(output , target)\n",
    "        # print(target)\n",
    "        # print(target.size())\n",
    "        ave_loss = ave_loss * 0.9 + loss.item()* 0.1 # 干啥的？\n",
    "        loss.backward()\n",
    "        opt.step()\n",
    "        # print('%4d:  loss: %g'%(batch_index, loss ))\n",
    "        pass\n",
    "    print('Epoch: %2d: Loss: %g' %(epoch, ave_loss)) \n",
    "    pass"
   ]
  },
  {
   "cell_type": "markdown",
   "metadata": {},
   "source": [
    "## 然后是测试 "
   ]
  },
  {
   "cell_type": "code",
   "execution_count": 107,
   "metadata": {},
   "outputs": [
    {
     "name": "stdout",
     "output_type": "stream",
     "text": [
      "              precision    recall  f1-score   support\n",
      "\n",
      "           0       0.98      0.99      0.98       980\n",
      "           1       0.98      0.98      0.98      1135\n",
      "           2       0.97      0.94      0.96      1032\n",
      "           3       0.95      0.95      0.95      1010\n",
      "           4       0.95      0.96      0.96       982\n",
      "           5       0.98      0.94      0.96       892\n",
      "           6       0.97      0.97      0.97       958\n",
      "           7       0.96      0.97      0.96      1028\n",
      "           8       0.94      0.98      0.96       974\n",
      "           9       0.96      0.95      0.95      1009\n",
      "\n",
      "    accuracy                           0.96     10000\n",
      "   macro avg       0.96      0.96      0.96     10000\n",
      "weighted avg       0.96      0.96      0.96     10000\n",
      "\n",
      "\n",
      "Accuracy Score: 0.9634\n"
     ]
    }
   ],
   "source": [
    "'''\n",
    "# 好像是必须要用 test loader \n",
    "X_test = Variable(test_set.data.view(-1,1, 28, 28 ))[:96]\n",
    "print ( X_test.size() )\n",
    "print( x.size() )\n",
    "'''\n",
    "import numpy as np \n",
    "from sklearn import  metrics\n",
    "\n",
    "y_pred = torch.empty(0, dtype= torch.long)\n",
    "for batch_idx, (x, target) in enumerate(test_loader):\n",
    "    y_pred_tmp = model.forward(x) \n",
    "    label_pred = torch.argmax( y_pred_tmp, dim= 1 )\n",
    "    #print(label_pred)\n",
    "    #print(target)\n",
    "    y_pred = torch.cat( (y_pred, label_pred)  ) # 连接两个向量\n",
    "    \n",
    "    pass\n",
    "\n",
    "y_true = test_set.targets\n",
    "\n",
    "# 分类结果报告\n",
    "print(metrics.classification_report(y_true, y_pred)  )\n",
    "\n",
    "print('\\nAccuracy Score: %g' %( metrics.accuracy_score(y_true, y_pred)))"
   ]
  },
  {
   "cell_type": "markdown",
   "metadata": {},
   "source": [
    "## 保存模型到本地"
   ]
  },
  {
   "cell_type": "code",
   "execution_count": 108,
   "metadata": {},
   "outputs": [],
   "source": [
    "torch.save(model.state_dict(), 'mnist_net' )"
   ]
  },
  {
   "cell_type": "markdown",
   "metadata": {},
   "source": [
    "## 读取保存的模型"
   ]
  },
  {
   "cell_type": "code",
   "execution_count": 112,
   "metadata": {},
   "outputs": [],
   "source": [
    "the_model = mnist_net()\n",
    "the_model.load_state_dict(torch.load('mnist_net'))"
   ]
  },
  {
   "cell_type": "code",
   "execution_count": 113,
   "metadata": {},
   "outputs": [
    {
     "name": "stdout",
     "output_type": "stream",
     "text": [
      "\n",
      "Accuracy Score: 0.9634\n"
     ]
    }
   ],
   "source": [
    "# 看一下准确率是不是一样的\n",
    "\n",
    "y_pred2 = torch.empty(0, dtype= torch.long)\n",
    "for batch_idx, (x, target) in enumerate(test_loader):\n",
    "    y_pred_tmp = model.forward(x) \n",
    "    label_pred = torch.argmax( y_pred_tmp, dim= 1 )\n",
    "    #print(label_pred)\n",
    "    #print(target)\n",
    "    y_pred2 = torch.cat( (y_pred2, label_pred)  ) # 连接两个向量\n",
    "    \n",
    "    pass\n",
    "\n",
    "print('\\nAccuracy Score of the Loaded Model: %g' %( metrics.accuracy_score(y_true, y_pred2)))"
   ]
  }
 ],
 "metadata": {
  "kernelspec": {
   "display_name": "Python 3",
   "language": "python",
   "name": "python3"
  },
  "language_info": {
   "codemirror_mode": {
    "name": "ipython",
    "version": 3
   },
   "file_extension": ".py",
   "mimetype": "text/x-python",
   "name": "python",
   "nbconvert_exporter": "python",
   "pygments_lexer": "ipython3",
   "version": "3.6.8"
  }
 },
 "nbformat": 4,
 "nbformat_minor": 2
}
